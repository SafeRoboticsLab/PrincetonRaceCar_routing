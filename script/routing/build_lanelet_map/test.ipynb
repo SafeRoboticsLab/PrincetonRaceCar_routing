{
 "cells": [
  {
   "cell_type": "code",
   "execution_count": 3,
   "metadata": {},
   "outputs": [],
   "source": [
    "%load_ext autoreload\n",
    "%autoreload 2"
   ]
  },
  {
   "cell_type": "code",
   "execution_count": 1,
   "metadata": {},
   "outputs": [],
   "source": [
    "import lanelet2\n",
    "from lanelet2.core import (AllWayStop, AttributeMap, BasicPoint2d,\n",
    "                            BoundingBox2d, Lanelet, LaneletMap,\n",
    "                            LaneletWithStopLine, LineString2d, LineString3d, Point2d, Point3d,\n",
    "                            RightOfWay, TrafficLight, getId)\n",
    "from lanelet2.projection import (UtmProjector, MercatorProjector,\n",
    "                                    LocalCartesianProjector, GeocentricProjector)\n",
    "\n",
    "import numpy as np\n",
    "from util import *"
   ]
  },
  {
   "cell_type": "code",
   "execution_count": 16,
   "metadata": {},
   "outputs": [
    {
     "data": {
      "text/plain": [
       "['__class__',\n",
       " '__delattr__',\n",
       " '__dict__',\n",
       " '__dir__',\n",
       " '__doc__',\n",
       " '__eq__',\n",
       " '__format__',\n",
       " '__ge__',\n",
       " '__getattribute__',\n",
       " '__gt__',\n",
       " '__hash__',\n",
       " '__init__',\n",
       " '__init_subclass__',\n",
       " '__le__',\n",
       " '__lt__',\n",
       " '__module__',\n",
       " '__ne__',\n",
       " '__new__',\n",
       " '__reduce__',\n",
       " '__reduce_ex__',\n",
       " '__repr__',\n",
       " '__setattr__',\n",
       " '__sizeof__',\n",
       " '__str__',\n",
       " '__subclasshook__',\n",
       " '__weakref__',\n",
       " 'allConflictingInMap',\n",
       " 'checkValidity',\n",
       " 'conflictingInMap',\n",
       " 'conflictingInRoute',\n",
       " 'followingRelations',\n",
       " 'forEachPredecessor',\n",
       " 'forEachSuccessor',\n",
       " 'fullLane',\n",
       " 'getDebugLaneletMap',\n",
       " 'laneletSubmap',\n",
       " 'leftRelation',\n",
       " 'leftRelations',\n",
       " 'length2d',\n",
       " 'numLanes',\n",
       " 'previousRelations',\n",
       " 'remainingLane',\n",
       " 'remainingShortestPath',\n",
       " 'rightRelation',\n",
       " 'rightRelations',\n",
       " 'shortestPath',\n",
       " 'size']"
      ]
     },
     "execution_count": 16,
     "metadata": {},
     "output_type": "execute_result"
    }
   ],
   "source": [
    "lanelet_map = load_lanelet_map('track.osm')\n",
    "traffic_rules = lanelet2.traffic_rules.create(lanelet2.traffic_rules.Locations.Germany,\n",
    "                                                lanelet2.traffic_rules.Participants.Vehicle)\n",
    "graph = lanelet2.routing.RoutingGraph(lanelet_map, traffic_rules) \n",
    "graph.checkValidity()\n",
    "start = lanelet_map.laneletLayer[1153]\n",
    "end = lanelet_map.laneletLayer[1148]\n",
    "path = graph.getRoute(start, end)\n"
   ]
  }
 ],
 "metadata": {
  "kernelspec": {
   "display_name": "ros_base",
   "language": "python",
   "name": "python3"
  },
  "language_info": {
   "codemirror_mode": {
    "name": "ipython",
    "version": 3
   },
   "file_extension": ".py",
   "mimetype": "text/x-python",
   "name": "python",
   "nbconvert_exporter": "python",
   "pygments_lexer": "ipython3",
   "version": "3.9.15"
  },
  "orig_nbformat": 4,
  "vscode": {
   "interpreter": {
    "hash": "7568f0ba5f4aa6b4771c1bfaa80032ca4a9c3cb4e7689d750c939fd1994746c1"
   }
  }
 },
 "nbformat": 4,
 "nbformat_minor": 2
}
