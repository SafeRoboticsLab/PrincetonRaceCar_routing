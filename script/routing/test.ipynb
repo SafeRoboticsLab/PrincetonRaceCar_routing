{
 "cells": [
  {
   "cell_type": "code",
   "execution_count": 1,
   "metadata": {},
   "outputs": [],
   "source": [
    "%load_ext autoreload\n",
    "%autoreload 2"
   ]
  },
  {
   "cell_type": "code",
   "execution_count": 2,
   "metadata": {},
   "outputs": [],
   "source": [
    "import lanelet2\n",
    "from lanelet2.core import (AllWayStop, AttributeMap, BasicPoint2d,\n",
    "                            BoundingBox2d, Lanelet, LaneletMap,\n",
    "                            LaneletWithStopLine, LineString2d, LineString3d, Point2d, Point3d,\n",
    "                            RightOfWay, TrafficLight, getId)\n",
    "from lanelet2.projection import (UtmProjector, MercatorProjector,\n",
    "                                    LocalCartesianProjector, GeocentricProjector)\n",
    "\n",
    "import numpy as np"
   ]
  },
  {
   "cell_type": "code",
   "execution_count": 3,
   "metadata": {},
   "outputs": [],
   "source": [
    "def gen_point(pt):\n",
    "    '''\n",
    "    Generate a Lanelet2::Point2d object from a tuple/list/nparray of 2d coordinates\n",
    "    '''\n",
    "    \n",
    "    return Point3d(getId(), float(pt[0]), float(pt[1]), 0.0)\n",
    "\n",
    "def gen_line_string(pts):\n",
    "    '''\n",
    "    Generate a Lanelet2::LineString2d object from a list of array of 2d coordinates\n",
    "    pts: [2,n] array\n",
    "    '''\n",
    "    d,n = pts.shape\n",
    "    assert d == 2, \"pts should be a [n,2] array\"\n",
    "    line_string = LineString3d(getId(),[])\n",
    "    line_string.attributes[\"type\"] = \"line_thin\"\n",
    "    line_string.attributes[\"subtype\"] = \"dashed\"\n",
    "    for i in range(n):\n",
    "        line_string.append(gen_point(pts[:,i]))\n",
    "    return line_string\n",
    "\n",
    "def gen_lanlet(left_pts, right_pts):\n",
    "    left_line_string = gen_line_string(left_pts)\n",
    "    right_line_string = gen_line_string(right_pts)\n",
    "    lanelet = Lanelet(getId(), left_line_string, right_line_string)\n",
    "    # lanelet.attributes[\"vehicle\"] = \"yes\"\n",
    "    lanelet.attributes[\"type\"] = \"lanelet\"\n",
    "    lanelet.attributes[\"subtype\"] = \"road\"\n",
    "    lanelet.attributes[\"location\"] = \"urban\"\n",
    "    return lanelet\n",
    "    "
   ]
  },
  {
   "cell_type": "code",
   "execution_count": 4,
   "metadata": {},
   "outputs": [],
   "source": [
    "pt1_l = gen_point([0,0])\n",
    "pt2_l = gen_point([5,0])\n",
    "pt3_l = gen_point([10,0])\n",
    "\n",
    "pt1_r = gen_point([0,3])\n",
    "pt2_r = gen_point([5,3])\n",
    "pt3_r = gen_point([10,3])\n",
    "\n",
    "l1_l = LineString3d(getId(),[pt1_l,pt2_l])\n",
    "l2_l = LineString3d(getId(),[pt2_l,pt3_l])\n",
    "\n",
    "l1_r = LineString3d(getId(),[pt1_r,pt2_r])\n",
    "l2_r = LineString3d(getId(),[pt2_r,pt3_r])\n",
    "\n",
    "lane1 = Lanelet(getId(),l1_l,l1_r)\n",
    "lane2 = Lanelet(getId(),l2_l,l2_r)\n"
   ]
  },
  {
   "cell_type": "code",
   "execution_count": 8,
   "metadata": {},
   "outputs": [
    {
     "data": {
      "text/plain": [
       "['__class__',\n",
       " '__delattr__',\n",
       " '__delitem__',\n",
       " '__dict__',\n",
       " '__dir__',\n",
       " '__doc__',\n",
       " '__eq__',\n",
       " '__format__',\n",
       " '__ge__',\n",
       " '__getattribute__',\n",
       " '__getitem__',\n",
       " '__gt__',\n",
       " '__hash__',\n",
       " '__init__',\n",
       " '__init_subclass__',\n",
       " '__instance_size__',\n",
       " '__iter__',\n",
       " '__le__',\n",
       " '__len__',\n",
       " '__lt__',\n",
       " '__module__',\n",
       " '__ne__',\n",
       " '__new__',\n",
       " '__reduce__',\n",
       " '__reduce_ex__',\n",
       " '__repr__',\n",
       " '__setattr__',\n",
       " '__setitem__',\n",
       " '__sizeof__',\n",
       " '__str__',\n",
       " '__subclasshook__',\n",
       " '__weakref__',\n",
       " 'append',\n",
       " 'attributes',\n",
       " 'id',\n",
       " 'invert',\n",
       " 'inverted']"
      ]
     },
     "execution_count": 8,
     "metadata": {},
     "output_type": "execute_result"
    }
   ],
   "source": [
    "dir(l1_r)"
   ]
  },
  {
   "cell_type": "code",
   "execution_count": 8,
   "metadata": {},
   "outputs": [
    {
     "data": {
      "text/plain": [
       "[]"
      ]
     },
     "execution_count": 8,
     "metadata": {},
     "output_type": "execute_result"
    }
   ],
   "source": [
    "projector = LocalCartesianProjector(lanelet2.io.Origin(0, 0, 0))\n",
    "\n",
    "\n",
    "map = LaneletMap()\n",
    "path = \"test.osm\"\n",
    "# lane1 = gen_lanlet(l1, c1)\n",
    "# lane1_left = gen_lanlet(c1, l1)\n",
    "# lane2 = gen_lanlet(l2, r2)\n",
    "# lane3 = gen_lanlet(l3, r3)\n",
    "# lane4 = gen_lanlet(l4, r4)\n",
    "# lane5 = gen_lanlet(l5, r5)\n",
    "\n",
    "map.add(lane1)\n",
    "# map.add(lane1_left)\n",
    "map.add(lane2)\n",
    "# map.add(lane3)\n",
    "# map.add(lane4)\n",
    "# map.add(lane5)\n",
    "\n",
    "\n",
    "traffic_rules = lanelet2.traffic_rules.create(lanelet2.traffic_rules.Locations.Germany,\n",
    "                                                lanelet2.traffic_rules.Participants.Vehicle)\n",
    "\n",
    "graph = lanelet2.routing.RoutingGraph(map, traffic_rules) \n",
    "graph.checkValidity()\n",
    "\n",
    "lanelet2.io.writeRobust(path, map, projector)\n"
   ]
  },
  {
   "cell_type": "code",
   "execution_count": 44,
   "metadata": {},
   "outputs": [
    {
     "data": {
      "text/plain": [
       "0.0"
      ]
     },
     "execution_count": 44,
     "metadata": {},
     "output_type": "execute_result"
    }
   ],
   "source": [
    "p = lane1.polygon3d()\n",
    "p[0].x"
   ]
  }
 ],
 "metadata": {
  "kernelspec": {
   "display_name": "ros_base",
   "language": "python",
   "name": "python3"
  },
  "language_info": {
   "codemirror_mode": {
    "name": "ipython",
    "version": 3
   },
   "file_extension": ".py",
   "mimetype": "text/x-python",
   "name": "python",
   "nbconvert_exporter": "python",
   "pygments_lexer": "ipython3",
   "version": "3.9.15"
  },
  "orig_nbformat": 4,
  "vscode": {
   "interpreter": {
    "hash": "7568f0ba5f4aa6b4771c1bfaa80032ca4a9c3cb4e7689d750c939fd1994746c1"
   }
  }
 },
 "nbformat": 4,
 "nbformat_minor": 2
}
