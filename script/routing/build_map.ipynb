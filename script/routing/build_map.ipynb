{
 "cells": [
  {
   "cell_type": "code",
   "execution_count": 1,
   "metadata": {},
   "outputs": [],
   "source": [
    "%load_ext autoreload\n",
    "%autoreload 2"
   ]
  },
  {
   "cell_type": "code",
   "execution_count": 7,
   "metadata": {},
   "outputs": [],
   "source": [
    "import lanelet2\n",
    "from lanelet2.core import (AllWayStop, AttributeMap, BasicPoint2d,\n",
    "                            BoundingBox2d, Lanelet, LaneletMap,\n",
    "                            LaneletWithStopLine, LineString2d, LineString3d, Point2d, Point3d,\n",
    "                            RightOfWay, TrafficLight, getId)\n",
    "from lanelet2.projection import (UtmProjector, MercatorProjector,\n",
    "                                    LocalCartesianProjector, GeocentricProjector)\n",
    "\n",
    "import numpy as np\n",
    "from util import *\n",
    "\n",
    "import matplotlib.pyplot as plt\n",
    "visualize = True"
   ]
  },
  {
   "cell_type": "code",
   "execution_count": 30,
   "metadata": {},
   "outputs": [],
   "source": [
    "# Create Map container\n",
    "\n",
    "lanelet_map = LaneletMap()"
   ]
  },
  {
   "attachments": {},
   "cell_type": "markdown",
   "metadata": {},
   "source": [
    "## First, we build the outerloop the run counter-clockwise"
   ]
  },
  {
   "cell_type": "code",
   "execution_count": 8,
   "metadata": {},
   "outputs": [
    {
     "data": {
      "image/png": "[encoded data removed]",
      "text/plain": [
       "<Figure size 640x480 with 1 Axes>"
      ]
     },
     "metadata": {},
     "output_type": "display_data"
    }
   ],
   "source": [
    "## load data\n",
    "ol_cc_r_np = np.array([np.linspace(0, 10, 100), np.zeros(100)])\n",
    "ol_cc_c_np = np.array([np.linspace(0, 10, 100), 3*np.ones(100)])\n",
    "ol_cc_l_np = np.array([np.linspace(0, 10, 100), 6*np.ones(100)])\n",
    "\n",
    "if visualize:\n",
    "    plt.plot(ol_cc_r_np[0,:], ol_cc_r_np[1,:],  label='right')\n",
    "    plt.plot(ol_cc_c_np[0,:], ol_cc_c_np[1,:],  label='center')\n",
    "    plt.plot(ol_cc_l_np[0,:], ol_cc_l_np[1,:],  label='left')\n",
    "    "
   ]
  },
  {
   "cell_type": "code",
   "execution_count": 55,
   "metadata": {},
   "outputs": [
    {
     "name": "stdout",
     "output_type": "stream",
     "text": [
      "ol_cc_r_lanelet:  4751\n",
      "ol_cc_l_lanelet:  4752\n"
     ]
    }
   ],
   "source": [
    "# Build Line Strings\n",
    "ol_cc_r_ls, ol_cc_r_start, ol_cc_r_end = gen_linestring(ol_cc_r_np, line_type='solid')\n",
    "ol_cc_c_ls, ol_cc_c_start, ol_cc_c_end = gen_linestring(ol_cc_c_np, line_type='dashed')\n",
    "ol_cc_l_ls, ol_cc_l_start, ol_cc_l_end = gen_linestring(ol_cc_l_np, line_type='solid_solid')\n",
    "\n",
    "# build lanelets\n",
    "ol_cc_r_lanelet = gen_lanelet(ol_cc_c_ls, ol_cc_r_ls)\n",
    "print(\"ol_cc_r_lanelet: \", ol_cc_r_lanelet.id)\n",
    "ol_cc_l_lanelet = gen_lanelet(ol_cc_l_ls, ol_cc_c_ls)\n",
    "print(\"ol_cc_l_lanelet: \", ol_cc_l_lanelet.id)\n",
    "\n",
    "lanelet_map.add(ol_cc_r_lanelet)\n",
    "lanelet_map.add(ol_cc_l_lanelet)"
   ]
  },
  {
   "cell_type": "code",
   "execution_count": 54,
   "metadata": {},
   "outputs": [
    {
     "name": "stdout",
     "output_type": "stream",
     "text": [
      "<lanelet2.routing.RoutingGraph object at 0x7f0c91284f90>\n",
      "[<lanelet2.routing.LaneletRelation object at 0x7f0c91255740>]\n"
     ]
    }
   ],
   "source": [
    "traffic_rules = lanelet2.traffic_rules.create(lanelet2.traffic_rules.Locations.Germany,\n",
    "                                                lanelet2.traffic_rules.Participants.Vehicle)\n",
    "\n",
    "graph = lanelet2.routing.RoutingGraph(lanelet_map, traffic_rules) \n",
    "error = graph.checkValidity()\n",
    "print(graph)\n",
    "\n",
    "print(graph.(ol_cc_r_lanelet, 0))\n",
    "\n"
   ]
  }
 ],
 "metadata": {
  "kernelspec": {
   "display_name": "ros_base",
   "language": "python",
   "name": "python3"
  },
  "language_info": {
   "codemirror_mode": {
    "name": "ipython",
    "version": 3
   },
   "file_extension": ".py",
   "mimetype": "text/x-python",
   "name": "python",
   "nbconvert_exporter": "python",
   "pygments_lexer": "ipython3",
   "version": "3.9.15 | packaged by conda-forge | (main, Nov 22 2022, 08:45:29) \n[GCC 10.4.0]"
  },
  "orig_nbformat": 4,
  "vscode": {
   "interpreter": {
    "hash": "7568f0ba5f4aa6b4771c1bfaa80032ca4a9c3cb4e7689d750c939fd1994746c1"
   }
  }
 },
 "nbformat": 4,
 "nbformat_minor": 2
}
